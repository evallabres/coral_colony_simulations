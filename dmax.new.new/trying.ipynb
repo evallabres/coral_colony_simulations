{
 "cells": [
  {
   "cell_type": "code",
   "execution_count": 2,
   "id": "d68f58be",
   "metadata": {},
   "outputs": [],
   "source": [
    "import numpy as np\n",
    "import igl"
   ]
  },
  {
   "cell_type": "code",
   "execution_count": 29,
   "id": "c9a6d098",
   "metadata": {},
   "outputs": [],
   "source": [
    "v1 =np.array([[0,3,4],[1,8,0],[0,-1,9]])"
   ]
  },
  {
   "cell_type": "code",
   "execution_count": 27,
   "id": "19f182d2",
   "metadata": {},
   "outputs": [
    {
     "name": "stdout",
     "output_type": "stream",
     "text": [
      "(array([1]),)\n",
      "(array([], dtype=int64),)\n",
      "(array([], dtype=int64),)\n"
     ]
    }
   ],
   "source": [
    "height = np.max(v1[:,2])/3\n",
    "ne = 0.1\n",
    "for i in (range(3)):\n",
    "    #idiam = np.where(v1[:,2] == 0)\n",
    "    idiam = np.where((v1[:,2] < i*height + ne) & (v1[:,2] > i*height-ne))\n",
    "            #dist = x=igl.all_pairs_distances(v1[idiam],v1[idiam],False)\n",
    "            #diam.append(np.max(dist))\n",
    "    print(idiam)"
   ]
  },
  {
   "cell_type": "code",
   "execution_count": 45,
   "id": "251d30c7",
   "metadata": {},
   "outputs": [
    {
     "data": {
      "text/plain": [
       "array([[1, 8, 4]])"
      ]
     },
     "execution_count": 45,
     "metadata": {},
     "output_type": "execute_result"
    }
   ],
   "source": [
    "maxr = np.max(v1[:,1])\n",
    "irmax = np.where(v1[:,1] == maxr)\n",
    "v1[irmax]"
   ]
  },
  {
   "cell_type": "code",
   "execution_count": 70,
   "id": "440e4fd0",
   "metadata": {},
   "outputs": [],
   "source": [
    "v1 = np.array([[0.0,3.0,4.0],[1.0,8.0,4.0],[0.0,-1.0,9.0]])"
   ]
  },
  {
   "cell_type": "code",
   "execution_count": 71,
   "id": "008012ee",
   "metadata": {},
   "outputs": [
    {
     "name": "stdout",
     "output_type": "stream",
     "text": [
      "<class 'numpy.ndarray'>\n",
      "[[ 0.          5.09901951  6.40312424]\n",
      " [ 5.09901951  0.         10.34408043]\n",
      " [ 6.40312424 10.34408043  0.        ]]\n"
     ]
    }
   ],
   "source": [
    "print(type(v1))\n",
    "x=igl.all_pairs_distances(v1,v1,False)\n",
    "print(x)"
   ]
  },
  {
   "cell_type": "code",
   "execution_count": 74,
   "id": "bfe95178",
   "metadata": {},
   "outputs": [
    {
     "data": {
      "text/plain": [
       "10.344080432788601"
      ]
     },
     "execution_count": 74,
     "metadata": {},
     "output_type": "execute_result"
    }
   ],
   "source": [
    "np.max(x)"
   ]
  },
  {
   "cell_type": "code",
   "execution_count": null,
   "id": "fd307441",
   "metadata": {},
   "outputs": [],
   "source": []
  }
 ],
 "metadata": {
  "kernelspec": {
   "display_name": "Python 3 (ipykernel)",
   "language": "python",
   "name": "python3"
  },
  "language_info": {
   "codemirror_mode": {
    "name": "ipython",
    "version": 3
   },
   "file_extension": ".py",
   "mimetype": "text/x-python",
   "name": "python",
   "nbconvert_exporter": "python",
   "pygments_lexer": "ipython3",
   "version": "3.8.5"
  }
 },
 "nbformat": 4,
 "nbformat_minor": 5
}
