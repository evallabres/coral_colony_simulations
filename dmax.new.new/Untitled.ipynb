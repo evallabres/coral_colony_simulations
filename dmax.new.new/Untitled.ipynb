{
 "cells": [
  {
   "cell_type": "code",
   "execution_count": 24,
   "id": "6bf7bc26",
   "metadata": {},
   "outputs": [],
   "source": [
    "import numpy as np\n",
    "import igl"
   ]
  },
  {
   "cell_type": "code",
   "execution_count": 33,
   "id": "a02ffcfc",
   "metadata": {},
   "outputs": [],
   "source": [
    "v1 =np.array([[0,3,4],[1,8,4],[0,-1,9]])\n",
    "v2 =np.array([[0,3,4],[1,8,4],[0,-1,9]])"
   ]
  },
  {
   "cell_type": "code",
   "execution_count": 37,
   "id": "f50eba8e",
   "metadata": {},
   "outputs": [],
   "source": [
    "v1 =np.array([0,3,4])\n",
    "v2 =np.array([0,3,4])"
   ]
  },
  {
   "cell_type": "code",
   "execution_count": 35,
   "id": "7f768f68",
   "metadata": {},
   "outputs": [
    {
     "data": {
      "text/plain": [
       "array([[0, 3, 4]])"
      ]
     },
     "execution_count": 35,
     "metadata": {},
     "output_type": "execute_result"
    }
   ],
   "source": [
    "maxr = np.max(v1[:,1])\n",
    "irmax = np.where(v1[:,1] == maxr)\n",
    "v1[irmax]"
   ]
  },
  {
   "cell_type": "code",
   "execution_count": 36,
   "id": "50685c62",
   "metadata": {},
   "outputs": [
    {
     "ename": "TypeError",
     "evalue": "all_pairs_distances(): incompatible function arguments. The following argument types are supported:\n    1. (u: array, v: array, squared: bool) -> object\n\nInvoked with: array([[0, 3, 4]]), array([[0, 3, 4]])",
     "output_type": "error",
     "traceback": [
      "\u001b[0;31m---------------------------------------------------------------------------\u001b[0m",
      "\u001b[0;31mTypeError\u001b[0m                                 Traceback (most recent call last)",
      "\u001b[0;32m/var/folders/5v/rx2q36xn6875j4wd8ws4lh7c0000gn/T/ipykernel_2765/355296043.py\u001b[0m in \u001b[0;36m<module>\u001b[0;34m\u001b[0m\n\u001b[0;32m----> 1\u001b[0;31m \u001b[0migl\u001b[0m\u001b[0;34m.\u001b[0m\u001b[0mall_pairs_distances\u001b[0m\u001b[0;34m(\u001b[0m\u001b[0mv1\u001b[0m\u001b[0;34m,\u001b[0m \u001b[0mv2\u001b[0m\u001b[0;34m)\u001b[0m\u001b[0;34m\u001b[0m\u001b[0;34m\u001b[0m\u001b[0m\n\u001b[0m",
      "\u001b[0;31mTypeError\u001b[0m: all_pairs_distances(): incompatible function arguments. The following argument types are supported:\n    1. (u: array, v: array, squared: bool) -> object\n\nInvoked with: array([[0, 3, 4]]), array([[0, 3, 4]])"
     ]
    }
   ],
   "source": [
    "igl.all_pairs_distances(v1, v2)"
   ]
  },
  {
   "cell_type": "code",
   "execution_count": null,
   "id": "0dfafe4c",
   "metadata": {},
   "outputs": [],
   "source": []
  }
 ],
 "metadata": {
  "kernelspec": {
   "display_name": "Python 3 (ipykernel)",
   "language": "python",
   "name": "python3"
  },
  "language_info": {
   "codemirror_mode": {
    "name": "ipython",
    "version": 3
   },
   "file_extension": ".py",
   "mimetype": "text/x-python",
   "name": "python",
   "nbconvert_exporter": "python",
   "pygments_lexer": "ipython3",
   "version": "3.8.5"
  }
 },
 "nbformat": 4,
 "nbformat_minor": 5
}
